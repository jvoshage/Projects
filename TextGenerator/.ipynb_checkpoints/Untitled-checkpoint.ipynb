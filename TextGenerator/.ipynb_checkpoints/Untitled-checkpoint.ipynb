{
 "cells": [
  {
   "cell_type": "code",
   "execution_count": 1,
   "metadata": {},
   "outputs": [],
   "source": [
    "from textgenrnn import textgenrnn\n",
    "\n",
    "textgen = textgenrnn()"
   ]
  },
  {
   "cell_type": "code",
   "execution_count": 2,
   "metadata": {},
   "outputs": [
    {
     "name": "stderr",
     "output_type": "stream",
     "text": [
      " 20%|██        | 1/5 [00:09<00:38,  9.73s/it]"
     ]
    },
    {
     "name": "stdout",
     "output_type": "stream",
     "text": [
      "Made a programming thing and it owns the state of the woods and outstaed statement it's my first match in the same thing than the streets of the backgrow of his first tweet to do with my son after the rest of my girlfriend in the five company\n",
      "\n"
     ]
    },
    {
     "name": "stderr",
     "output_type": "stream",
     "text": [
      "\r",
      " 40%|████      | 2/5 [00:20<00:30, 10.00s/it]"
     ]
    },
    {
     "name": "stdout",
     "output_type": "stream",
     "text": [
      "My favorite thing I think my first poster is finishing the same words and material and transparents \"the best friend gets a year\" anniversary of the same way to the most pool that you make a scarent that has van for 5 years until they are a lot of matchmaking places on the starter of the state of t\n",
      "\n"
     ]
    },
    {
     "name": "stderr",
     "output_type": "stream",
     "text": [
      "\r",
      " 60%|██████    | 3/5 [00:31<00:20, 10.26s/it]"
     ]
    },
    {
     "name": "stdout",
     "output_type": "stream",
     "text": [
      "Anyone else getting sure what to do with the staw is a bit of the shop of the strange with an accident and the way to start a set of my dad to about their own control of the satisfasions and to say they have kinda with a New Year's world, what do you think of office subscribers is a video of the st\n",
      "\n"
     ]
    },
    {
     "name": "stderr",
     "output_type": "stream",
     "text": [
      "\r",
      " 80%|████████  | 4/5 [00:35<00:08,  8.61s/it]"
     ]
    },
    {
     "name": "stdout",
     "output_type": "stream",
     "text": [
      "21 [F4M] #Sufpara - Looking for Christmas totally and what is the best section of the background of his dad got back from the story?\n",
      "\n"
     ]
    },
    {
     "name": "stderr",
     "output_type": "stream",
     "text": [
      "100%|██████████| 5/5 [00:46<00:00,  9.32s/it]"
     ]
    },
    {
     "name": "stdout",
     "output_type": "stream",
     "text": [
      "What is the worst style feel like they are to be a book or the book in the computer I was a bad restaurant advertise in Talking with his famous wedding with my pressure and then the beauty of the story of the consent and it can see if you created an encounter that the first time of the purpose of t\n",
      "\n"
     ]
    },
    {
     "name": "stderr",
     "output_type": "stream",
     "text": [
      "\n"
     ]
    }
   ],
   "source": [
    "#Generate 5 text samples\n",
    "textgen.generate(5)"
   ]
  },
  {
   "cell_type": "code",
   "execution_count": 3,
   "metadata": {},
   "outputs": [
    {
     "name": "stdout",
     "output_type": "stream",
     "text": [
      "####################\n",
      "Temperature: 0.2\n",
      "####################\n",
      "The state of the sidewalk is a computer in the background of a part of the shop to the state of the state of the season to the stream of the price of the state of the same to the state of the comments and have an and the perfect programming shows and all the state of the starter of the state of the\n",
      "\n",
      "The Star Wars And I [f] and I found this story of the state of the state of the state with a company that we are a bad point of the same time to the best friend who should be able to start sent to my story of the background of the same time to start a secret before the start of the results of the s\n",
      "\n",
      "[PS4] [H] 100% RX 1080 [W] Paypal\n",
      "\n",
      "####################\n",
      "Temperature: 0.5\n",
      "####################\n",
      "The poster of the best with a paraly and the way here are the little games and its internet and any stuff that we all know what it is working.\n",
      "\n",
      "She was a financial match today. It was so cant a stranger and it was now and then wanting to say this is completely asking it?\n",
      "\n",
      "Steam with the same stranger stand in the student and has any of you pretty caught this watch in a matern eagle.\n",
      "\n",
      "####################\n",
      "Temperature: 1.0\n",
      "####################\n",
      "Can someone people have assunt warning to lose a came to a track lookmare?\n",
      "\n",
      "[I Ate] Easiers Barbaraam infoges away and Edge this hoost loot joke\n",
      "\n",
      "Anonymous buildings sober st your exchating life?\n",
      "\n"
     ]
    }
   ],
   "source": [
    "#Try different temperatures\n",
    "textgen.generate_samples()"
   ]
  },
  {
   "cell_type": "code",
   "execution_count": 4,
   "metadata": {
    "scrolled": true
   },
   "outputs": [
    {
     "name": "stdout",
     "output_type": "stream",
     "text": [
      "1,999 texts collected.\n",
      "Training on 172,316 character sequences.\n",
      "Epoch 1/5\n",
      "1346/1346 [==============================] - 260s 191ms/step - loss: 1.6469\n",
      "####################\n",
      "Temperature: 0.2\n",
      "####################\n",
      "Megathread: A Senate Personally America of Michael Congresses $10 billion to be a better and company to be a be the prison count a becomes a state of the bill for a result in committed and company to be a be couring to be sentenced for a secret the country for be being suiting to be company to be b\n",
      "\n",
      "Michael Corporates Says It Was Trump In Trump In Texas Arrest In Trump Allegedly American Contaction Trump In A Contact In A Fox News\n",
      "\n",
      "Mexico becomes the country in a prime company a police company to be being suiting to the first time company to be a be police and it insider in a substress says it's been been said they do it they came to sentence the prison and it it's resigned to be company on a prime of the prison campaign in a\n",
      "\n",
      "####################\n",
      "Temperature: 0.5\n",
      "####################\n",
      "Are a f*ck him of campaign dies against immigration\n",
      "\n",
      "Minor Doughter to Infect the complaint of Ameraria secret company committed to the bee is suder and have been sentenced for majorities for intention donates to the account says we show before the company of ‘stage in be contain becomes the bottle of his dead is a be benightified the possible traine\n",
      "\n",
      "Michael Count limit dies a second some of the first account fire over a count on price of man who said he would be a free color\n",
      "\n",
      "####################\n",
      "Temperature: 1.0\n",
      "####################\n",
      "Mexico employed of riflant of animachel by Ban to be in their prads, the vendel arrest gics booblowder against out in Alama Crede: 2019\n",
      "\n",
      "A.cendein. Valled parnesbie\n",
      "\n",
      "Altaral Corporated Impeachmizer War Lock, and tot Weres for Anti-Sex High Angi Fetting Michall Attendral Fellought\n",
      "\n",
      "Epoch 2/5\n",
      "1346/1346 [==============================] - 250s 186ms/step - loss: 1.4685\n",
      "####################\n",
      "Temperature: 0.2\n",
      "####################\n",
      "Megathread: Trump says he was a family for the street in the state to a contercover in Trump and stop to be gone to be all to the street of the protest to be confirmed to be surrended at his political case of the state of the store candidate confirm to be subs $750 million to be companies to dead a\n",
      "\n",
      "Mueller started a confirm to be on state to stop to report at least the store companies after believes for the store commits in the store case and shot it something as a call in a stray\n",
      "\n",
      "Alexandria Ocasio-Cortez and the security committed in the state of the store case to be surpriscented and survey him as state to the store confirm in the state of the state of the state of the state to be the state to be the stray\n",
      "\n",
      "####################\n",
      "Temperature: 0.5\n",
      "####################\n",
      "McConnell commits all one to be going to confirm to bleak its case and hate all 20 million\n",
      "\n",
      "Trump report believes to vote to 100 political caroline to stop the talkshialing to be undered to report by supremacists\n",
      "\n",
      "Bernie Sanders Swook says he would be sex in band courts\n",
      "\n",
      "####################\n",
      "Temperature: 1.0\n",
      "####################\n",
      "Rie been safety abortion flood Must say these attacking for a skailmac donation to Microclomates, 10,0000 blues without $250 terrified for 1\n",
      "\n",
      "Mother, 53 on study spent smiles claim clearher, has been rebourner for release, searching span in China\n",
      "\n",
      "grenctant: has kind police if that does \"umper becomes is bednock\"\n",
      "\n",
      "Epoch 3/5\n",
      "1346/1346 [==============================] - 250s 186ms/step - loss: 1.3686\n",
      "####################\n",
      "Temperature: 0.2\n",
      "####################\n",
      "Trump says he was a fear of a supremacy to the state of the party in the protest of the protesters company in the state of the store after stoners are being to be completely while the police of the first police of an extremely continues after being the first parent for the first time in a report wi\n",
      "\n",
      "Mueller report cameras to be completely after leaving his completely court after state to the first time in protesting in the state to a bill to the state of an account in a contelve to the committee of the first parents of protests in a school before released from college committee\n",
      "\n",
      "Mueller say the common contempt shooting in a protesters for the first police at the contelves in a way to the contest in the state after the state of secret continues in protesting police at a protest of a president of the state of the president of the storm that after the report is being to his c\n",
      "\n",
      "####################\n",
      "Temperature: 0.5\n",
      "####################\n",
      "Justin Prosecutors Is Hard Are American Carbital Marning Man Will Be President That Intelligence Without Senate Cardstan troops\n",
      "\n",
      "Mueller say stealing the state became the front of sentenced to stop the company was the winner in the border wall in front of the police people with the bill to release company to a budness after last student dead and some of the intercovers to stand after family life to block out of the suicide c\n",
      "\n",
      "Trump is a police percent the texas as a free common prosecutors\n",
      "\n",
      "####################\n",
      "Temperature: 1.0\n",
      "####################\n",
      "Salach Is Trump Trump About a Whet It Nearbell\n",
      "\n",
      "Deliver Callino droped in climate people that from congress\n",
      "\n",
      "Washing off his pardon requirity law\n",
      "\n",
      "Epoch 4/5\n",
      "1346/1346 [==============================] - 254s 189ms/step - loss: 1.2829\n",
      "####################\n",
      "Temperature: 0.2\n",
      "####################\n",
      "McConnell courts say the first time says\n",
      "\n",
      "Man who did nothing to be sentenced to the same report in the state of the report of the state of the same contacts after security care conditions for the political care attack of all the party in the resurface of the state of the second of the president can be seen down the same teen for the same \n",
      "\n",
      "Trump says senators should be conditioned to the report to be exposed to be consided to the contact to the report with the security accuses the border than the party of the same court to protect the same controversial supporters with the same contracts after sex of the second of the state to be con\n",
      "\n",
      "####################\n",
      "Temperature: 0.5\n",
      "####################\n",
      "College reported to end with report for the sex of a tier of was detention after state of and behind father of the president don’t be expiling for companies to avoid it for the family in a 'flesh' court from report to being disputed after allegedly saying to the worst contempt for missing to the re\n",
      "\n",
      "Alexandria Ocasio-Cortez Administration mind to be called to police about the butting the same report for a court charged with mass report for the worker\n",
      "\n",
      "Michael Cohen Has Been Behind Trump Protecting The Water And Republican Thing Their Report Into Their Court to Have Leaven The Same Articles to Run Donald Trump Who Report The Wall of The Same Address to Stop Their of Rand Paul Mitch McConnell Political Highen Donald Trump Has Federal Man Artifed t\n",
      "\n",
      "####################\n",
      "Temperature: 1.0\n",
      "####################\n",
      "My Sistent Woh success report celebrations: Nethomer past after becomes fears\n",
      "\n",
      "Exider's Ruds Detention Calls For Profited Trump Deservinary Trump's Emergency for Park Shoes Service airmidly to Will to-time in Unnock more a criminal\n",
      "\n",
      "Michigan joke shelts down biggest the 21th during rally strikes\n",
      "\n",
      "Epoch 5/5\n",
      "1346/1346 [==============================] - 259s 193ms/step - loss: 1.2049\n",
      "####################\n",
      "Temperature: 0.2\n",
      "####################\n",
      "Alexandria Ocasio-Cortez Has Been Allegedly Protecting Constitutional Trump Trump Facts to Stop Donald Trump To The White House of His House In Barr After His House Conditions For The White House and Barr and The United Shooting to The Congressional Emergency Trump Is a Republicans are Bedrank on T\n",
      "\n",
      "Trump administration was complained to protect the first time in protests\n",
      "\n",
      "Trump says he would be conditions to report on a report of the same reporter of his company is a report of his face of the state of the state of a protesters attack in the resort of the state to the state of the state to the first time in the state of his car officer who resigned after sentenced to\n",
      "\n",
      "####################\n",
      "Temperature: 0.5\n",
      "####################\n",
      "Man who lied of 'Climate terror window in the raid hearing to be a report from the world of the State in North Carolina\n",
      "\n",
      "Alabama report shows the same maker in the company of his includes in 2020, in Rape shows took by protested of a protesters for backs after stating state for sex and sentenced to vote to stop women\n",
      "\n"
     ]
    },
    {
     "name": "stdout",
     "output_type": "stream",
     "text": [
      "Trump of Florida White House and Steve The White House a Trump’s Hearing Man When Why Is Trump That News After Action For Planning to Have Discorded a White House of our state in sex shelter live the state to reported in College from protests with some of the side for the first time in prison and s\n",
      "\n",
      "####################\n",
      "Temperature: 1.0\n",
      "####################\n",
      "Ithiol bust-intvelian: Wye He Wasner passes the \"depress\"\" in Michael Cohen churchy in '302 pot on explosional pretend bar claimed\n",
      "\n",
      "Trump games briefing and being silenting the union following a grounthon olipter election Trump builds $728br as stealing. is removed the foundering Run a proft chinester in a woman's execution — states detained of face rights in Nashview Jone blame\n",
      "\n",
      "Democrats of youth is funding the successСonties resign\n",
      "\n"
     ]
    }
   ],
   "source": [
    "#Train using Reddit headlines\n",
    "textgen.reset()\n",
    "\n",
    "textgen.train_from_file('/home/jacob/Documents/BigQuery/Data/makeRedditQuery.txt', num_epochs=5)"
   ]
  },
  {
   "cell_type": "code",
   "execution_count": 5,
   "metadata": {
    "scrolled": true
   },
   "outputs": [],
   "source": [
    "textgen.save('reddit_2019.hdf5')"
   ]
  },
  {
   "cell_type": "code",
   "execution_count": null,
   "metadata": {},
   "outputs": [],
   "source": []
  },
  {
   "cell_type": "code",
   "execution_count": null,
   "metadata": {},
   "outputs": [],
   "source": []
  }
 ],
 "metadata": {
  "kernelspec": {
   "display_name": "Python 3",
   "language": "python",
   "name": "python3"
  },
  "language_info": {
   "codemirror_mode": {
    "name": "ipython",
    "version": 3
   },
   "file_extension": ".py",
   "mimetype": "text/x-python",
   "name": "python",
   "nbconvert_exporter": "python",
   "pygments_lexer": "ipython3",
   "version": "3.7.4"
  }
 },
 "nbformat": 4,
 "nbformat_minor": 4
}
